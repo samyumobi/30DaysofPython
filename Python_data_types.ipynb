{
  "nbformat": 4,
  "nbformat_minor": 0,
  "metadata": {
    "colab": {
      "provenance": [],
      "authorship_tag": "ABX9TyNv9St1XbbLWpn3ATZO+dbr",
      "include_colab_link": true
    },
    "kernelspec": {
      "name": "python3",
      "display_name": "Python 3"
    },
    "language_info": {
      "name": "python"
    }
  },
  "cells": [
    {
      "cell_type": "markdown",
      "metadata": {
        "id": "view-in-github",
        "colab_type": "text"
      },
      "source": [
        "<a href=\"https://colab.research.google.com/github/samyumobi/30DaysofPython/blob/main/Python_data_types.ipynb\" target=\"_parent\"><img src=\"https://colab.research.google.com/assets/colab-badge.svg\" alt=\"Open In Colab\"/></a>"
      ]
    },
    {
      "cell_type": "markdown",
      "source": [
        "# 1. Data type 1 - List"
      ],
      "metadata": {
        "id": "RygZUkyt4pvR"
      }
    },
    {
      "cell_type": "code",
      "execution_count": 2,
      "metadata": {
        "colab": {
          "base_uri": "https://localhost:8080/"
        },
        "id": "7e0Hkx8M4kct",
        "outputId": "069ace8c-5083-4a10-8701-d99d4e84c968"
      },
      "outputs": [
        {
          "output_type": "stream",
          "name": "stdout",
          "text": [
            "['1', '2', 1, 2, 0, '3']\n"
          ]
        }
      ],
      "source": [
        "l = ['1','2',1,2,0]\n",
        "l += '3'\n",
        "print(l)"
      ]
    },
    {
      "cell_type": "code",
      "source": [
        "l.insert(2,'abc')\n",
        "print(l)"
      ],
      "metadata": {
        "colab": {
          "base_uri": "https://localhost:8080/"
        },
        "id": "9fAQoFZH5IMU",
        "outputId": "d05c9f16-6664-4660-fc00-e28b318b9f11"
      },
      "execution_count": 3,
      "outputs": [
        {
          "output_type": "stream",
          "name": "stdout",
          "text": [
            "['1', '2', 'abc', 1, 2, 0, '3']\n"
          ]
        }
      ]
    },
    {
      "cell_type": "code",
      "source": [
        "l.extend([4,8,'d','g'])\n",
        "print(l)"
      ],
      "metadata": {
        "colab": {
          "base_uri": "https://localhost:8080/"
        },
        "id": "n9lGv5IZ5M3o",
        "outputId": "2743f28e-4fc4-49fd-ebfd-baf29b09f035"
      },
      "execution_count": 4,
      "outputs": [
        {
          "output_type": "stream",
          "name": "stdout",
          "text": [
            "['1', '2', 'abc', 1, 2, 0, '3', 4, 8, 'd', 'g']\n"
          ]
        }
      ]
    },
    {
      "cell_type": "markdown",
      "source": [
        "##Task\n",
        "\n",
        "**Perform list operations using [GFG](https://geeksforgeeks.org/list-methods-python/)**\n",
        "\n",
        "\n",
        "\n",
        "\n",
        "   1. Write program to perform list operations without using list methods - Most frequently asked question - [ Try with append/ slicing/ insert/ delete/ remove/ reverse]\n",
        "\n",
        "   2. Apply lambda, map, enumerate function on list\n",
        "   Ref: https://www.geeksforgeeks.org/python-lambda-anonymous-functions-filter-map-reduce/\n",
        "\n",
        "   --> Learn about lambda here - https://www.dataquest.io/blog/tutorial-lambda-functions-in-python/\n",
        "\n",
        "   It is a pythonic way to avoid if else using simple list and lambda for statistical outputs\n",
        "\n",
        "--> Read about mapper() here : https://realpython.com/python-map-function/\n",
        "\n",
        "You can use filter/ reduce for strings. Write code in above page below.\n",
        "   \n",
        "\n"
      ],
      "metadata": {
        "id": "XLhOpSqr5Y99"
      }
    },
    {
      "cell_type": "markdown",
      "source": [
        "# 2. Data type 2 - Date time\n",
        "\n",
        "First learn how to extract year, date, day from dates - \" As numbers/ Serial data format/ Strings\"\n",
        "\n",
        "Refer - https://www.programiz.com/python-programming/datetime\n",
        "https://towardsdatascience.com/basic-datetime-operations-in-python-2d706be82c63\n",
        "\n",
        "\n",
        "**Write code in that page below with your hands. Do not copy paste. Mainly focus on strp, strf, date time , delta - They are imp while exporting data as RDF and DF in EDA**\n",
        "\n",
        "Refer any other sites as per your interest."
      ],
      "metadata": {
        "id": "OaIoc9Lc64dT"
      }
    },
    {
      "cell_type": "markdown",
      "source": [
        "## Task\n",
        "\n",
        "1. Use pandas and date time for exploring data in Kaggle. Use columns having date in a live Kaggle competition. Use below url as reference\n",
        "\n",
        "Ref: https://www.dataquest.io/blog/datetime-in-pandas/\n",
        "https://www.influxdata.com/blog/pandas-datetime-tutorial/\n"
      ],
      "metadata": {
        "id": "x3CmBA029_61"
      }
    },
    {
      "cell_type": "markdown",
      "source": [
        "# Data type 3- Dict , Set, tuple\n",
        "\n",
        "I will discuss it soon"
      ],
      "metadata": {
        "id": "uM4IPixx_N_s"
      }
    },
    {
      "cell_type": "code",
      "source": [],
      "metadata": {
        "id": "6n7nandL6k5Y"
      },
      "execution_count": null,
      "outputs": []
    },
    {
      "cell_type": "code",
      "source": [],
      "metadata": {
        "id": "jiYrnRes5Ucl"
      },
      "execution_count": null,
      "outputs": []
    }
  ]
}