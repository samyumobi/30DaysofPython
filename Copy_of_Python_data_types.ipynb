{
  "nbformat": 4,
  "nbformat_minor": 0,
  "metadata": {
    "colab": {
      "provenance": [],
      "authorship_tag": "ABX9TyMPvU83JgcWTPakzmSPJFsa",
      "include_colab_link": true
    },
    "kernelspec": {
      "name": "python3",
      "display_name": "Python 3"
    },
    "language_info": {
      "name": "python"
    }
  },
  "cells": [
    {
      "cell_type": "markdown",
      "metadata": {
        "id": "view-in-github",
        "colab_type": "text"
      },
      "source": [
        "<a href=\"https://colab.research.google.com/github/samyumobi/30DaysofPython/blob/main/Copy_of_Python_data_types.ipynb\" target=\"_parent\"><img src=\"https://colab.research.google.com/assets/colab-badge.svg\" alt=\"Open In Colab\"/></a>"
      ]
    },
    {
      "cell_type": "markdown",
      "source": [
        "# 1. Data type 1 - List"
      ],
      "metadata": {
        "id": "RygZUkyt4pvR"
      }
    },
    {
      "cell_type": "code",
      "execution_count": 1,
      "metadata": {
        "colab": {
          "base_uri": "https://localhost:8080/"
        },
        "id": "7e0Hkx8M4kct",
        "outputId": "543e089f-214d-427a-9057-06971f1a21ab"
      },
      "outputs": [
        {
          "output_type": "stream",
          "name": "stdout",
          "text": [
            "['1', '2', 1, 2, 0, '3']\n"
          ]
        }
      ],
      "source": [
        "l = ['1','2',1,2,0]\n",
        "l += '3'\n",
        "print(l)"
      ]
    },
    {
      "cell_type": "code",
      "source": [
        "l.insert(2,'abc')\n",
        "print(l)"
      ],
      "metadata": {
        "colab": {
          "base_uri": "https://localhost:8080/"
        },
        "id": "9fAQoFZH5IMU",
        "outputId": "38d467a3-1250-49ba-c2b3-e9dc988ce9c8"
      },
      "execution_count": 2,
      "outputs": [
        {
          "output_type": "stream",
          "name": "stdout",
          "text": [
            "['1', '2', 'abc', 1, 2, 0, '3']\n"
          ]
        }
      ]
    },
    {
      "cell_type": "code",
      "source": [
        "l.extend([4,8,'d','g'])\n",
        "print(l)"
      ],
      "metadata": {
        "colab": {
          "base_uri": "https://localhost:8080/"
        },
        "id": "n9lGv5IZ5M3o",
        "outputId": "d2b4540c-4b1b-4548-c12d-e42d2ea084c1"
      },
      "execution_count": 3,
      "outputs": [
        {
          "output_type": "stream",
          "name": "stdout",
          "text": [
            "['1', '2', 'abc', 1, 2, 0, '3', 4, 8, 'd', 'g']\n"
          ]
        }
      ]
    },
    {
      "cell_type": "markdown",
      "source": [
        "##Task\n",
        "\n",
        "**Perform list operations using [GFG](https://geeksforgeeks.org/list-methods-python/)**\n",
        "\n",
        "\n",
        "\n",
        "\n",
        "   1. Write program to perform list operations without using list methods - Most frequently asked question - [ Try with append/ slicing/ insert/ delete/ remove/ reverse]\n",
        "\n",
        "   2. Apply lambda, map, enumerate function on list\n",
        "   Ref: https://www.geeksforgeeks.org/python-lambda-anonymous-functions-filter-map-reduce/\n",
        "\n",
        "   --> Learn about lambda here - https://www.dataquest.io/blog/tutorial-lambda-functions-in-python/\n",
        "\n",
        "   It is a pythonic way to avoid if else using simple list and lambda for statistical outputs\n",
        "\n",
        "--> Read about mapper() here : https://realpython.com/python-map-function/\n",
        "\n",
        "You can use filter/ reduce for strings. Write code in above page below.\n",
        "   \n",
        "\n"
      ],
      "metadata": {
        "id": "XLhOpSqr5Y99"
      }
    },
    {
      "cell_type": "code",
      "source": [
        "l2 = ['s','a',3,4,5,'m']\n",
        "l2.append(32)\n",
        "print(l2)\n",
        "print(sum(l2[2:5]))\n",
        "print(l2.count(3))\n"
      ],
      "metadata": {
        "colab": {
          "base_uri": "https://localhost:8080/"
        },
        "id": "wuNRS1AGbObv",
        "outputId": "9ad67187-545e-47a8-9caa-413008bd8210"
      },
      "execution_count": 4,
      "outputs": [
        {
          "output_type": "stream",
          "name": "stdout",
          "text": [
            "['s', 'a', 3, 4, 5, 'm', 32]\n",
            "12\n",
            "1\n"
          ]
        }
      ]
    },
    {
      "cell_type": "code",
      "source": [
        "print(l2.index('s'))"
      ],
      "metadata": {
        "colab": {
          "base_uri": "https://localhost:8080/"
        },
        "id": "5c1iUAATcGyF",
        "outputId": "a5319769-373a-4277-ca1a-bfd40eb31c88"
      },
      "execution_count": 5,
      "outputs": [
        {
          "output_type": "stream",
          "name": "stdout",
          "text": [
            "0\n"
          ]
        }
      ]
    },
    {
      "cell_type": "code",
      "source": [
        "print(len(l2))"
      ],
      "metadata": {
        "colab": {
          "base_uri": "https://localhost:8080/"
        },
        "id": "qsR10ooOb8rM",
        "outputId": "f215aa71-36c5-4d52-a112-0fd12ca08fdb"
      },
      "execution_count": 6,
      "outputs": [
        {
          "output_type": "stream",
          "name": "stdout",
          "text": [
            "7\n"
          ]
        }
      ]
    },
    {
      "cell_type": "code",
      "source": [
        "print(min(l),max(l2))"
      ],
      "metadata": {
        "colab": {
          "base_uri": "https://localhost:8080/",
          "height": 144
        },
        "id": "xljhdPDncJZr",
        "outputId": "63edcff3-34e1-4622-b949-fcaffcd0d513"
      },
      "execution_count": 7,
      "outputs": [
        {
          "output_type": "error",
          "ename": "TypeError",
          "evalue": "'<' not supported between instances of 'int' and 'str'",
          "traceback": [
            "\u001b[0;31m---------------------------------------------------------------------------\u001b[0m",
            "\u001b[0;31mTypeError\u001b[0m                                 Traceback (most recent call last)",
            "\u001b[0;32m<ipython-input-7-d6048f899971>\u001b[0m in \u001b[0;36m<cell line: 1>\u001b[0;34m()\u001b[0m\n\u001b[0;32m----> 1\u001b[0;31m \u001b[0mprint\u001b[0m\u001b[0;34m(\u001b[0m\u001b[0mmin\u001b[0m\u001b[0;34m(\u001b[0m\u001b[0ml\u001b[0m\u001b[0;34m)\u001b[0m\u001b[0;34m,\u001b[0m\u001b[0mmax\u001b[0m\u001b[0;34m(\u001b[0m\u001b[0ml2\u001b[0m\u001b[0;34m)\u001b[0m\u001b[0;34m)\u001b[0m\u001b[0;34m\u001b[0m\u001b[0;34m\u001b[0m\u001b[0m\n\u001b[0m",
            "\u001b[0;31mTypeError\u001b[0m: '<' not supported between instances of 'int' and 'str'"
          ]
        }
      ]
    },
    {
      "cell_type": "code",
      "source": [
        "l3 = [6,6,6,7,888, 999, 0]\n",
        "\n",
        "print(min(l3),max(l3))"
      ],
      "metadata": {
        "id": "rAdAtjhTcUR2"
      },
      "execution_count": null,
      "outputs": []
    },
    {
      "cell_type": "code",
      "source": [
        "print(l3.sort())\n",
        "\n",
        "l3.sort()\n",
        "\n",
        "print(l3)"
      ],
      "metadata": {
        "id": "24b8_D50cd3a"
      },
      "execution_count": null,
      "outputs": []
    },
    {
      "cell_type": "code",
      "source": [
        "l3.sort(reverse=True)\n",
        "\n",
        "print(l3)"
      ],
      "metadata": {
        "id": "-RS15u2QclyB"
      },
      "execution_count": null,
      "outputs": []
    },
    {
      "cell_type": "code",
      "source": [
        "l2.reverse()\n",
        "print(l2)"
      ],
      "metadata": {
        "id": "TG37wty9crYl"
      },
      "execution_count": null,
      "outputs": []
    },
    {
      "cell_type": "markdown",
      "source": [
        "#### Removing elements from list"
      ],
      "metadata": {
        "id": "y-cZbmdgc1FP"
      }
    },
    {
      "cell_type": "code",
      "source": [
        "# Temp pop 6 from list 3\n",
        "\n",
        "\n",
        "# print(l3.pop(6))\n",
        "\n",
        "print(l3.count(6))\n",
        "\n",
        "print(l3)\n",
        "\n"
      ],
      "metadata": {
        "id": "MkILO01gc5YO"
      },
      "execution_count": null,
      "outputs": []
    },
    {
      "cell_type": "code",
      "source": [
        "del l3.remove(6)\n",
        "print(l3)"
      ],
      "metadata": {
        "id": "7w5yy8RbdtNx"
      },
      "execution_count": null,
      "outputs": []
    },
    {
      "cell_type": "code",
      "source": [
        "del l3[0]"
      ],
      "metadata": {
        "id": "H9RdthlAd4Zy"
      },
      "execution_count": null,
      "outputs": []
    },
    {
      "cell_type": "code",
      "source": [
        "print(l3)\n",
        "l3.remove(6)\n",
        "l3"
      ],
      "metadata": {
        "id": "ZP45UXlfeAhQ"
      },
      "execution_count": null,
      "outputs": []
    },
    {
      "cell_type": "code",
      "source": [
        "l4 = l3\n",
        "\n",
        "print(l4)\n",
        "\n",
        "l5 = l3.copy()\n",
        "print(l5)"
      ],
      "metadata": {
        "id": "q2xk1cX1eSWh"
      },
      "execution_count": null,
      "outputs": []
    },
    {
      "cell_type": "markdown",
      "source": [
        "### Implementing list functions without the function"
      ],
      "metadata": {
        "id": "gUM7pPN0ekAA"
      }
    },
    {
      "cell_type": "markdown",
      "source": [
        "### sorting"
      ],
      "metadata": {
        "id": "zqP9_c-JeoqT"
      }
    },
    {
      "cell_type": "code",
      "source": [
        "sorted([789823, 9, 333, 56])"
      ],
      "metadata": {
        "id": "FSCwDDVIfifI"
      },
      "execution_count": null,
      "outputs": []
    },
    {
      "cell_type": "code",
      "source": [
        "a = [5, 9, 34, 5, 68]\n",
        "for i in range(len(a)):\n",
        "  for j in range(len(a)-1):\n",
        "    if a[j] > a[j+1]:\n",
        "      a[j], a[j+1] = a[j+1], a[j]\n",
        "print(a)\n"
      ],
      "metadata": {
        "id": "h7hJLJ-2en_P"
      },
      "execution_count": null,
      "outputs": []
    },
    {
      "cell_type": "code",
      "source": [
        "b = ['l','a','g','t']\n",
        "for i in range(len(b)):\n",
        "  for j in range(len(b)-1):\n",
        "    if b[i] > b[j]:\n",
        "      temp = b[i]\n",
        "      b[i] = b[j]\n",
        "      b[j] = temp\n",
        "\n",
        "\n",
        "print(b)\n"
      ],
      "metadata": {
        "id": "LR8_gWY_fNIF"
      },
      "execution_count": null,
      "outputs": []
    },
    {
      "cell_type": "markdown",
      "source": [
        "### Filter() a list"
      ],
      "metadata": {
        "id": "hakIl0xCh8y6"
      }
    },
    {
      "cell_type": "code",
      "source": [
        "d = ['a','b','a','a','a','f']\n",
        "print(list(filter(lambda x:x != 'a',d)))"
      ],
      "metadata": {
        "id": "WKU3VLOQg-y_"
      },
      "execution_count": null,
      "outputs": []
    },
    {
      "cell_type": "code",
      "source": [
        "s = []\n",
        "for i in d:\n",
        "  if i != 'a':\n",
        "    s += i\n",
        "print(s)"
      ],
      "metadata": {
        "id": "ds7VN2Xnvo45"
      },
      "execution_count": null,
      "outputs": []
    },
    {
      "cell_type": "code",
      "source": [
        "print([i for i in d if i!= 'a'])"
      ],
      "metadata": {
        "id": "L24-d6Oev1FV"
      },
      "execution_count": null,
      "outputs": []
    },
    {
      "cell_type": "code",
      "source": [
        "import re\n",
        "\n",
        "pattern = \"a\"\n",
        "print([i for i in d if not re.match(pattern,i)])"
      ],
      "metadata": {
        "id": "qWNsMiLNwMMX"
      },
      "execution_count": null,
      "outputs": []
    },
    {
      "cell_type": "markdown",
      "source": [
        "### Reverse a list"
      ],
      "metadata": {
        "id": "MgqT7Cj8wi66"
      }
    },
    {
      "cell_type": "code",
      "source": [
        "a = ['g','p','o']\n",
        "print(a[::-1])"
      ],
      "metadata": {
        "id": "9KEP6Q_RwrEs"
      },
      "execution_count": null,
      "outputs": []
    },
    {
      "cell_type": "code",
      "source": [
        "r = []\n",
        "for j in a:\n",
        "  r = [j] + r\n",
        "print(r)"
      ],
      "metadata": {
        "id": "HNIn5w10xLVt"
      },
      "execution_count": null,
      "outputs": []
    },
    {
      "cell_type": "code",
      "source": [
        "r = []\n",
        "for i in range(len(a)-1,-1,-1):\n",
        "  r += a[i]\n",
        "print(r)"
      ],
      "metadata": {
        "id": "_JdlhGDYxWcj"
      },
      "execution_count": null,
      "outputs": []
    },
    {
      "cell_type": "code",
      "source": [
        "r = []\n",
        "for i in a:\n",
        "  r.insert(0,i)\n",
        "print(r)"
      ],
      "metadata": {
        "id": "qhlwsguYxamJ"
      },
      "execution_count": null,
      "outputs": []
    },
    {
      "cell_type": "markdown",
      "source": [
        "### Range"
      ],
      "metadata": {
        "id": "bnFSzOTtxeog"
      }
    },
    {
      "cell_type": "code",
      "source": [
        "print(chr(110))"
      ],
      "metadata": {
        "id": "LQ7NqCGpx4bn"
      },
      "execution_count": null,
      "outputs": []
    },
    {
      "cell_type": "code",
      "source": [
        "print(list(range(ord(\"a\"),ord(\"z\"))))"
      ],
      "metadata": {
        "id": "H6QdFLRkx-lx"
      },
      "execution_count": null,
      "outputs": []
    },
    {
      "cell_type": "code",
      "source": [
        "print(list(chr(i) for i in (range(ord(\"a\"),ord(\"z\")+1))))"
      ],
      "metadata": {
        "id": "kCaaKItZyIk7"
      },
      "execution_count": null,
      "outputs": []
    },
    {
      "cell_type": "code",
      "source": [
        "import string\n",
        "print('a to z without range\\n')\n",
        "for i in string.ascii_lowercase:\n",
        "  print(i,end=' ')"
      ],
      "metadata": {
        "id": "LLfjpL9mySme"
      },
      "execution_count": null,
      "outputs": []
    },
    {
      "cell_type": "code",
      "source": [
        "print(list(map(chr,range(ord(\"a\"),ord(\"z\")+1))))"
      ],
      "metadata": {
        "id": "fA6nn2yOzfwu"
      },
      "execution_count": null,
      "outputs": []
    },
    {
      "cell_type": "code",
      "source": [
        "print(list(map(lambda x:chr(x),range(ord(\"a\"),ord(\"z\")+1))))"
      ],
      "metadata": {
        "id": "DGjnsoMPzor5"
      },
      "execution_count": null,
      "outputs": []
    },
    {
      "cell_type": "markdown",
      "source": [
        "### Count occurences"
      ],
      "metadata": {
        "id": "TwW3-x6s0m2t"
      }
    },
    {
      "cell_type": "code",
      "source": [
        "from collections import Counter\n",
        "print(d)\n",
        "print(Counter(d))"
      ],
      "metadata": {
        "id": "XcDxrAKJ0pUR"
      },
      "execution_count": null,
      "outputs": []
    },
    {
      "cell_type": "code",
      "source": [
        "c = {}\n",
        "for i in d:\n",
        "  if i in c:\n",
        "    c[i] += 1\n",
        "  else:\n",
        "    c[i] = 1\n",
        "\n",
        "print(c)"
      ],
      "metadata": {
        "id": "2YZmaG7R0xd4"
      },
      "execution_count": null,
      "outputs": []
    },
    {
      "cell_type": "code",
      "source": [
        "def co_unt(l, o):\n",
        "  c = 0\n",
        "  for i in l:\n",
        "    if i == o:\n",
        "      c += 1\n",
        "\n",
        "  return c\n",
        "\n",
        "print(co_unt(d,'a'))\n"
      ],
      "metadata": {
        "id": "aXiIfIUL1bJT"
      },
      "execution_count": null,
      "outputs": []
    },
    {
      "cell_type": "markdown",
      "source": [
        "### index()"
      ],
      "metadata": {
        "id": "l7kj2GAK2RMz"
      }
    },
    {
      "cell_type": "code",
      "source": [
        "s = [1,5,3,4,9,4,2,1,5,6]\n",
        "\n",
        "res = []\n",
        "for i in range(len(s)):\n",
        "  if s[i] == 5:\n",
        "    res.append(i)\n",
        "print(res)"
      ],
      "metadata": {
        "id": "DsrU0dfp2APk"
      },
      "execution_count": null,
      "outputs": []
    },
    {
      "cell_type": "code",
      "source": [
        "# Find index of 2\n",
        "\n",
        "print([i for i,j in enumerate(s) if j == 2])"
      ],
      "metadata": {
        "id": "Rn2RKoZr2tOH"
      },
      "execution_count": null,
      "outputs": []
    },
    {
      "cell_type": "code",
      "source": [
        "# Find index of 2\n",
        "\n",
        "print([i for i in range(len(s)) if s[i] == 2])"
      ],
      "metadata": {
        "id": "lUHI3Iyp22eE"
      },
      "execution_count": null,
      "outputs": []
    },
    {
      "cell_type": "code",
      "source": [
        "print(list(filter(lambda x:s[x] == 2,s)))"
      ],
      "metadata": {
        "id": "KCkYCtnR3Fum"
      },
      "execution_count": null,
      "outputs": []
    },
    {
      "cell_type": "code",
      "source": [
        "import numpy as np\n",
        "\n",
        "print(list( (np.where(s == 2))[0]))"
      ],
      "metadata": {
        "id": "beLElrQp3Qr8"
      },
      "execution_count": null,
      "outputs": []
    },
    {
      "cell_type": "code",
      "source": [
        "print(list( (np.where(np.array(s) == 2))[0]))"
      ],
      "metadata": {
        "id": "9plHtMJO3z4O"
      },
      "execution_count": null,
      "outputs": []
    },
    {
      "cell_type": "markdown",
      "source": [
        "# 2. Data type 2 - Date time\n",
        "\n",
        "First learn how to extract year, date, day from dates - \" As numbers/ Serial data format/ Strings\"\n",
        "\n",
        "Refer - https://www.programiz.com/python-programming/datetime\n",
        "https://towardsdatascience.com/basic-datetime-operations-in-python-2d706be82c63\n",
        "\n",
        "\n",
        "**Write code in that page below with your hands. Do not copy paste. Mainly focus on strp, strf, date time , delta - They are imp while exporting data as RDF and DF in EDA**\n",
        "\n",
        "Refer any other sites as per your interest."
      ],
      "metadata": {
        "id": "OaIoc9Lc64dT"
      }
    },
    {
      "cell_type": "markdown",
      "source": [
        "## Task\n",
        "\n",
        "1. Use pandas and date time for exploring data in Kaggle. Use columns having date in a live Kaggle competition. Use below url as reference\n",
        "\n",
        "Ref: https://www.dataquest.io/blog/datetime-in-pandas/\n",
        "https://www.influxdata.com/blog/pandas-datetime-tutorial/\n"
      ],
      "metadata": {
        "id": "x3CmBA029_61"
      }
    },
    {
      "cell_type": "code",
      "source": [
        "import datetime as dt\n",
        "\n",
        "#numeric dates\n",
        "n = dt.date(2020,1,1)\n",
        "print(n)\n",
        "print(n.year,n.month,n.day)"
      ],
      "metadata": {
        "id": "mkzUYPLOuNmh"
      },
      "execution_count": null,
      "outputs": []
    },
    {
      "cell_type": "markdown",
      "source": [
        "**Note**\n",
        "\n",
        "The errors have been left intentionally to type with hands and realise syntax importance while working with date time objects.\n",
        "\n",
        "\"**Do not stare at errors and ignore the errored cells. Please type data in errored cells. If you type wrong syntax in front of interviewer twice or thrice, you will be out of the tech round.**\""
      ],
      "metadata": {
        "id": "PdroxlRO17Zd"
      }
    },
    {
      "cell_type": "code",
      "source": [
        "#string dates\n",
        "j = '3-3-2024 11:33:80'\n",
        "print(j.year)"
      ],
      "metadata": {
        "id": "H6RuHq72u29_"
      },
      "execution_count": null,
      "outputs": []
    },
    {
      "cell_type": "code",
      "source": [
        "print(dt.j.year)"
      ],
      "metadata": {
        "id": "U-JBJZkuvFIG"
      },
      "execution_count": null,
      "outputs": []
    },
    {
      "cell_type": "code",
      "source": [
        "j = dt.strptime(j,\"%Y\")\n",
        "print('year',j.year)\n",
        "\n",
        "\n"
      ],
      "metadata": {
        "id": "pqoEhizxvJKf"
      },
      "execution_count": null,
      "outputs": []
    },
    {
      "cell_type": "code",
      "source": [
        "from datetime import datetime\n",
        "j = '3-3-2024 11:33:50'\n",
        "p = datetime.strptime(j,'%d-%m-%Y %H:%M:%S')"
      ],
      "metadata": {
        "id": "-fuULJBMw5Dv"
      },
      "execution_count": null,
      "outputs": []
    },
    {
      "cell_type": "code",
      "source": [
        "#converting numeric into string datetime using strf\n",
        "\n",
        "ts = 1234563345\n",
        "new_date = datetime.fromtimestamp(ts)\n",
        "print('Date Time object',new_date)\n",
        "\n",
        "# Retrieve the year / day/ month from time stamp\n",
        "d = new_date.strftime('%d-%m-%Y %H:%M:%S')\n",
        "print('Date',d)\n"
      ],
      "metadata": {
        "id": "FZErgam7yTvz"
      },
      "execution_count": null,
      "outputs": []
    },
    {
      "cell_type": "code",
      "source": [
        "print(new_date.strftime(\"%d %b,%Y\"))"
      ],
      "metadata": {
        "id": "cC7jU1a6yVCi"
      },
      "execution_count": null,
      "outputs": []
    },
    {
      "cell_type": "code",
      "source": [
        "print(new_date.strftime(\"%d %B,%Y\"))"
      ],
      "metadata": {
        "id": "kaDGfrsqyglf"
      },
      "execution_count": null,
      "outputs": []
    },
    {
      "cell_type": "code",
      "source": [
        "print(new_date.strftime(\"%I %p\"))"
      ],
      "metadata": {
        "id": "gv7sD5BiykbO"
      },
      "execution_count": null,
      "outputs": []
    },
    {
      "cell_type": "code",
      "source": [
        "# Convert the numeric into string and format the date\n",
        "\n",
        "import time\n",
        "print(time.strptime(\"01 June 2024\",\"%d %b %Y\"))"
      ],
      "metadata": {
        "id": "Ln8jpuopzIOH"
      },
      "execution_count": null,
      "outputs": []
    },
    {
      "cell_type": "code",
      "source": [
        "import time\n",
        "d = time.strptime(\" 01 Jan 2024\",\"%A %B %y\")\n",
        "#d = time.strptime(\" 02 Dec 1996\", \" %d %b %Y\")\n",
        "print(d)"
      ],
      "metadata": {
        "id": "KLqqw8_hzqPk"
      },
      "execution_count": null,
      "outputs": []
    },
    {
      "cell_type": "code",
      "source": [
        "print(time.strptime(\"14/2/1992 3:34\",\"%d/%m/%Y %H:%M\"))"
      ],
      "metadata": {
        "id": "FIvkSe8T1FTf"
      },
      "execution_count": null,
      "outputs": []
    },
    {
      "cell_type": "code",
      "source": [
        "print(datetime.strptime('3/3/1990', '%d/%m/%Y'))"
      ],
      "metadata": {
        "id": "67sqv5bt1O4e"
      },
      "execution_count": null,
      "outputs": []
    },
    {
      "cell_type": "markdown",
      "source": [
        "### Pandas and date time data"
      ],
      "metadata": {
        "id": "ZIn2F98T2oQM"
      }
    },
    {
      "cell_type": "code",
      "source": [
        "# Change datetime format in dataframe\n",
        "\n",
        "import pandas as pd\n",
        "\n",
        "df = pd.DataFrame({'Date':{0:'13-8-1990',1:'24-5-2000'}})\n",
        "print(df)\n"
      ],
      "metadata": {
        "id": "Z04m61H32sha"
      },
      "execution_count": null,
      "outputs": []
    },
    {
      "cell_type": "code",
      "source": [
        "df.Date"
      ],
      "metadata": {
        "id": "Ejprk7z-3KHm"
      },
      "execution_count": null,
      "outputs": []
    },
    {
      "cell_type": "code",
      "source": [
        "df.Date.year"
      ],
      "metadata": {
        "id": "m6BUmiVC3ShB"
      },
      "execution_count": null,
      "outputs": []
    },
    {
      "cell_type": "code",
      "source": [
        "df.Date.strptime('%Y')"
      ],
      "metadata": {
        "id": "70gzYcRo3UwS"
      },
      "execution_count": null,
      "outputs": []
    },
    {
      "cell_type": "code",
      "source": [
        "df['d'] = pd.to_datetime(df.Date)\n",
        "print(df.d)"
      ],
      "metadata": {
        "id": "oRYGoItk3bHY"
      },
      "execution_count": null,
      "outputs": []
    },
    {
      "cell_type": "code",
      "source": [
        "print(df.d.dt.year)"
      ],
      "metadata": {
        "id": "G1wfO5NO342p"
      },
      "execution_count": null,
      "outputs": []
    },
    {
      "cell_type": "code",
      "source": [
        "# Display dates as string\n",
        "print(df.d.dt.strptime(\"%m-%d-%Y\"))"
      ],
      "metadata": {
        "id": "r_g0SjFR4q3h"
      },
      "execution_count": null,
      "outputs": []
    },
    {
      "cell_type": "code",
      "source": [
        "# Display dates as string\n",
        "\n",
        "print(df.dtypes)"
      ],
      "metadata": {
        "id": "x3doB8Vu5LTt"
      },
      "execution_count": null,
      "outputs": []
    },
    {
      "cell_type": "code",
      "source": [
        "df.head()"
      ],
      "metadata": {
        "id": "_PlnDJEE5de7"
      },
      "execution_count": null,
      "outputs": []
    },
    {
      "cell_type": "code",
      "source": [
        "# Display numeric dates as string dates\n",
        "df['ds'] = pd.to_datetime(df.Date.astype(str),dayfirst=True)\n",
        "print(df['ds'])\n"
      ],
      "metadata": {
        "id": "65JJkMJ_5h4i"
      },
      "execution_count": null,
      "outputs": []
    },
    {
      "cell_type": "code",
      "source": [
        "# Convert numeric dates to string dates\n",
        "df['dss'] = pd.to_datetime(df['d'].dt.strftime('%Y-%m-%d'))\n",
        "print(df['dss'])"
      ],
      "metadata": {
        "id": "U1Slt98Z6II2"
      },
      "execution_count": null,
      "outputs": []
    },
    {
      "cell_type": "code",
      "source": [
        "# Convert string dates in dataframe to numeric dates\n",
        "df = pd.DataFrame({'Date':['22-3-1980','11-4-2001','19-2-1901'],\n",
        "                   'Gender':['F','M','m'],\n",
        "                   'Salary':[1,4,2]})\n",
        "print(df,'\\n\\n\\n',df.dtypes)\n",
        "\n",
        "#Convert date to datetime\n",
        "df.Date = pd.to_datetime(df.Date)\n",
        "print(df,'\\n\\n\\n',df.dtypes)\n",
        "\n",
        "#Display Salary as string data\n",
        "df['Salary'] = df['Salary'].astype(str)\n",
        "print(df,'\\n\\n\\n',df.dtypes)\n",
        "\n",
        "\n",
        "\n",
        "\n"
      ],
      "metadata": {
        "id": "keIVaS4o7eIp"
      },
      "execution_count": null,
      "outputs": []
    },
    {
      "cell_type": "markdown",
      "source": [
        "# Data type 3- Dict , Set, tuple\n",
        "\n",
        "I will discuss it soon"
      ],
      "metadata": {
        "id": "uM4IPixx_N_s"
      }
    },
    {
      "cell_type": "code",
      "source": [],
      "metadata": {
        "id": "6n7nandL6k5Y"
      },
      "execution_count": null,
      "outputs": []
    },
    {
      "cell_type": "code",
      "source": [],
      "metadata": {
        "id": "jiYrnRes5Ucl"
      },
      "execution_count": null,
      "outputs": []
    }
  ]
}